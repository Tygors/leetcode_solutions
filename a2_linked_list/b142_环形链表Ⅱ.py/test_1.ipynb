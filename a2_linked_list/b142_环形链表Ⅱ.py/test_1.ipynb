{
 "cells": [
  {
   "cell_type": "markdown",
   "metadata": {},
   "source": [
    "https://leetcode.cn/problems/linked-list-cycle-ii"
   ]
  },
  {
   "cell_type": "markdown",
   "metadata": {},
   "source": [
    "给定一个链表的头节点  head ，返回链表开始入环的第一个节点。 如果链表无环，则返回 null。\n",
    "\n",
    "如果链表中有某个节点，可以通过连续跟踪 next 指针再次到达，则链表中存在环。 为了表示给定链表中的环，评测系统内部使用整数 pos 来表示链表尾连接到链表中的位置（索引从 0 开始）。如果 pos 是 -1，则在该链表中没有环。注意：pos 不作为参数进行传递，仅仅是为了标识链表的实际情况。\n",
    "\n",
    "不允许修改 链表。"
   ]
  },
  {
   "cell_type": "markdown",
   "metadata": {},
   "source": [
    "示例 1：\n",
    "\n",
    "输入：head = [3,2,0,-4], pos = 1\n",
    "\n",
    "输出：返回索引为 1 的链表节点\n",
    "\n",
    "解释：链表中有一个环，其尾部连接到第二个节点。\n",
    "\n",
    "示例 2：\n",
    "\n",
    "输入：head = [1,2], pos = 0\n",
    "\n",
    "输出：返回索引为 0 的链表节点\n",
    "\n",
    "解释：链表中有一个环，其尾部连接到第一个节点。\n",
    "\n",
    "示例 3：\n",
    "\n",
    "输入：head = [1], pos = -1\n",
    "\n",
    "输出：返回 null\n",
    "\n",
    "解释：链表中没有环。"
   ]
  }
 ],
 "metadata": {
  "kernelspec": {
   "display_name": "base",
   "language": "python",
   "name": "python3"
  },
  "language_info": {
   "codemirror_mode": {
    "name": "ipython",
    "version": 3
   },
   "file_extension": ".py",
   "mimetype": "text/x-python",
   "name": "python",
   "nbconvert_exporter": "python",
   "pygments_lexer": "ipython3",
   "version": "3.9.20"
  }
 },
 "nbformat": 4,
 "nbformat_minor": 2
}
