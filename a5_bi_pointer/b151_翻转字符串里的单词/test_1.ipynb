{
 "cells": [
  {
   "cell_type": "markdown",
   "metadata": {},
   "source": [
    "https://leetcode.cn/problems/reverse-words-in-a-string/"
   ]
  },
  {
   "cell_type": "markdown",
   "metadata": {},
   "source": [
    "给你一个字符串 s ，请你反转字符串中 单词 的顺序。\n",
    "\n",
    "单词 是由非空格字符组成的字符串。s 中使用至少一个空格将字符串中的 单词 分隔开。\n",
    "\n",
    "返回 单词 顺序颠倒且 单词 之间用单个空格连接的结果字符串。\n",
    "\n",
    "注意：输入字符串 s中可能会存在前导空格、尾随空格或者单词间的多个空格。返回的结果字符串中，单词间应当仅用单个空格分隔，且不包含任何额外的空格。\n",
    "\n",
    " \n",
    "\n",
    "示例 1：\n",
    "\n",
    "输入：s = \"the sky is blue\"\n",
    "\n",
    "输出：\"blue is sky the\"\n",
    "\n",
    "示例 2：\n",
    "\n",
    "输入：s = \"  hello world  \"\n",
    "\n",
    "输出：\"world hello\"\n",
    "\n",
    "解释：反转后的字符串中不能存在前导空格和尾随空格。\n",
    "\n",
    "示例 3：\n",
    "\n",
    "输入：s = \"a good   example\"\n",
    "\n",
    "输出：\"example good a\"\n",
    "\n",
    "解释：如果两个单词间有多余的空格，反转后的字符串需要将单词间的空格减少到仅有一个。"
   ]
  },
  {
   "cell_type": "code",
   "execution_count": 1,
   "metadata": {},
   "outputs": [],
   "source": [
    "from Solution import Solution"
   ]
  },
  {
   "cell_type": "code",
   "execution_count": 2,
   "metadata": {},
   "outputs": [
    {
     "name": "stdout",
     "output_type": "stream",
     "text": [
      "blue is sky the\n"
     ]
    }
   ],
   "source": [
    "s = \"the sky is blue\"\n",
    "print(Solution().reverseWords(s))"
   ]
  },
  {
   "cell_type": "code",
   "execution_count": 3,
   "metadata": {},
   "outputs": [
    {
     "name": "stdout",
     "output_type": "stream",
     "text": [
      "world hello\n"
     ]
    }
   ],
   "source": [
    "s = \"  hello world  \"\n",
    "print(Solution().reverseWords(s))"
   ]
  },
  {
   "cell_type": "code",
   "execution_count": 4,
   "metadata": {},
   "outputs": [
    {
     "name": "stdout",
     "output_type": "stream",
     "text": [
      "example good a\n"
     ]
    }
   ],
   "source": [
    "s = \"a good   example\"\n",
    "print(Solution().reverseWords(s))"
   ]
  },
  {
   "cell_type": "code",
   "execution_count": null,
   "metadata": {},
   "outputs": [],
   "source": []
  }
 ],
 "metadata": {
  "kernelspec": {
   "display_name": "base",
   "language": "python",
   "name": "python3"
  },
  "language_info": {
   "codemirror_mode": {
    "name": "ipython",
    "version": 3
   },
   "file_extension": ".py",
   "mimetype": "text/x-python",
   "name": "python",
   "nbconvert_exporter": "python",
   "pygments_lexer": "ipython3",
   "version": "3.9.12"
  }
 },
 "nbformat": 4,
 "nbformat_minor": 2
}
