{
 "cells": [
  {
   "cell_type": "markdown",
   "metadata": {},
   "source": [
    "https://leetcode.cn/problems/combination-sum-iii"
   ]
  },
  {
   "cell_type": "markdown",
   "metadata": {},
   "source": [
    "找出所有相加之和为 n 的 k 个数的组合，且满足下列条件：\n",
    "\n",
    "只使用数字1到9\n",
    "\n",
    "每个数字 最多使用一次 \n",
    "\n",
    "返回 所有可能的有效组合的列表 。该列表不能包含相同的组合两次，组合可以以任何顺序返回。\n",
    "\n",
    " \n",
    "\n",
    "示例 1:\n",
    "\n",
    "输入: k = 3, n = 7\n",
    "\n",
    "输出: [[1,2,4]]\n",
    "\n",
    "解释:\n",
    "\n",
    "1 + 2 + 4 = 7\n",
    "\n",
    "没有其他符合的组合了。\n",
    "\n",
    "示例 2:\n",
    "\n",
    "输入: k = 3, n = 9\n",
    "\n",
    "输出: [[1,2,6], [1,3,5], [2,3,4]]\n",
    "\n",
    "解释:\n",
    "\n",
    "1 + 2 + 6 = 9\n",
    "\n",
    "1 + 3 + 5 = 9\n",
    "\n",
    "2 + 3 + 4 = 9\n",
    "\n",
    "没有其他符合的组合了。\n",
    "\n",
    "示例 3:\n",
    "\n",
    "输入: k = 4, n = 1\n",
    "\n",
    "输出: []\n",
    "\n",
    "解释: 不存在有效的组合。\n",
    "\n",
    "在[1,9]范围内使用4个不同的数字，我们可以得到的最小和是1+2+3+4 = 10，因为10 > 1，没有有效的组合。"
   ]
  },
  {
   "cell_type": "code",
   "execution_count": 1,
   "metadata": {},
   "outputs": [],
   "source": [
    "from Solution import Solution"
   ]
  },
  {
   "cell_type": "code",
   "execution_count": 2,
   "metadata": {},
   "outputs": [
    {
     "name": "stdout",
     "output_type": "stream",
     "text": [
      "[[1, 2, 4]]\n"
     ]
    }
   ],
   "source": [
    "print(Solution().combinationSum3(k = 3, n = 7))"
   ]
  },
  {
   "cell_type": "code",
   "execution_count": 3,
   "metadata": {},
   "outputs": [
    {
     "name": "stdout",
     "output_type": "stream",
     "text": [
      "[[1, 2, 6], [1, 3, 5], [2, 3, 4]]\n"
     ]
    }
   ],
   "source": [
    "print(Solution().combinationSum3(k = 3, n = 9))"
   ]
  },
  {
   "cell_type": "code",
   "execution_count": 4,
   "metadata": {},
   "outputs": [
    {
     "name": "stdout",
     "output_type": "stream",
     "text": [
      "[]\n"
     ]
    }
   ],
   "source": [
    "print(Solution().combinationSum3(k = 4, n = 1))"
   ]
  },
  {
   "cell_type": "code",
   "execution_count": null,
   "metadata": {},
   "outputs": [],
   "source": []
  }
 ],
 "metadata": {
  "kernelspec": {
   "display_name": "base",
   "language": "python",
   "name": "python3"
  },
  "language_info": {
   "codemirror_mode": {
    "name": "ipython",
    "version": 3
   },
   "file_extension": ".py",
   "mimetype": "text/x-python",
   "name": "python",
   "nbconvert_exporter": "python",
   "pygments_lexer": "ipython3",
   "version": "3.9.12"
  }
 },
 "nbformat": 4,
 "nbformat_minor": 2
}
