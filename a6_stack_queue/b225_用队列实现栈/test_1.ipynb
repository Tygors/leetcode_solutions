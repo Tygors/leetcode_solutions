{
 "cells": [
  {
   "cell_type": "markdown",
   "metadata": {},
   "source": [
    "https://leetcode.cn/problems/implement-stack-using-queues"
   ]
  },
  {
   "cell_type": "markdown",
   "metadata": {},
   "source": [
    "请你仅使用两个队列实现一个后入先出（LIFO）的栈，并支持普通栈的全部四种操作（push、top、pop 和 empty）。\n",
    "\n",
    "实现 MyStack 类：\n",
    "\n",
    "void push(int x) 将元素 x 压入栈顶。\n",
    "\n",
    "int pop() 移除并返回栈顶元素。\n",
    "\n",
    "int top() 返回栈顶元素。\n",
    "\n",
    "boolean empty() 如果栈是空的，返回 true ；否则，返回 false 。\n",
    " \n",
    "\n",
    "注意：\n",
    "\n",
    "你只能使用队列的标准操作 —— 也就是 push to back、peek/pop from front、size 和 is empty 这些操作。\n",
    "你所使用的语言也许不支持队列。 你可以使用 list （列表）或者 deque（双端队列）来模拟一个队列 , 只要是标准的队列操作即可。\n",
    " \n",
    "\n",
    "示例：\n",
    "\n",
    "输入：\n",
    "[\"MyStack\", \"push\", \"push\", \"top\", \"pop\", \"empty\"]\n",
    "\n",
    "[[], [1], [2], [], [], []]\n",
    "\n",
    "输出：\n",
    "\n",
    "[null, null, null, 2, 2, false]\n",
    "\n",
    "解释：\n",
    "\n",
    "MyStack myStack = new MyStack();\n",
    "\n",
    "myStack.push(1);\n",
    "\n",
    "myStack.push(2);\n",
    "\n",
    "myStack.top(); // 返回 2\n",
    "\n",
    "myStack.pop(); // 返回 2\n",
    "\n",
    "myStack.empty(); // 返回 False"
   ]
  },
  {
   "cell_type": "code",
   "execution_count": 1,
   "metadata": {},
   "outputs": [],
   "source": [
    "from Solution import MyStack"
   ]
  },
  {
   "cell_type": "code",
   "execution_count": 2,
   "metadata": {},
   "outputs": [],
   "source": [
    "myStack = MyStack()\n",
    "myStack.push(1)\n",
    "myStack.push(2)"
   ]
  },
  {
   "cell_type": "code",
   "execution_count": 3,
   "metadata": {},
   "outputs": [
    {
     "data": {
      "text/plain": [
       "2"
      ]
     },
     "execution_count": 3,
     "metadata": {},
     "output_type": "execute_result"
    }
   ],
   "source": [
    "myStack.top()"
   ]
  },
  {
   "cell_type": "code",
   "execution_count": 4,
   "metadata": {},
   "outputs": [
    {
     "data": {
      "text/plain": [
       "2"
      ]
     },
     "execution_count": 4,
     "metadata": {},
     "output_type": "execute_result"
    }
   ],
   "source": [
    "myStack.pop()"
   ]
  },
  {
   "cell_type": "code",
   "execution_count": 5,
   "metadata": {},
   "outputs": [
    {
     "data": {
      "text/plain": [
       "False"
      ]
     },
     "execution_count": 5,
     "metadata": {},
     "output_type": "execute_result"
    }
   ],
   "source": [
    "myStack.empty()"
   ]
  },
  {
   "cell_type": "code",
   "execution_count": null,
   "metadata": {},
   "outputs": [],
   "source": []
  }
 ],
 "metadata": {
  "kernelspec": {
   "display_name": "base",
   "language": "python",
   "name": "python3"
  },
  "language_info": {
   "codemirror_mode": {
    "name": "ipython",
    "version": 3
   },
   "file_extension": ".py",
   "mimetype": "text/x-python",
   "name": "python",
   "nbconvert_exporter": "python",
   "pygments_lexer": "ipython3",
   "version": "3.9.12"
  }
 },
 "nbformat": 4,
 "nbformat_minor": 2
}
