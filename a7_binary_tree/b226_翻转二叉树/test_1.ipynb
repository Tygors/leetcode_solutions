{
 "cells": [
  {
   "cell_type": "markdown",
   "metadata": {},
   "source": [
    "https://leetcode.cn/problems/invert-binary-tree"
   ]
  },
  {
   "cell_type": "markdown",
   "metadata": {},
   "source": [
    "给你一棵二叉树的根节点 root ，翻转这棵二叉树，并返回其根节点。\n",
    "\n",
    "示例 1：\n",
    "\n",
    "\n",
    "\n",
    "输入：root = [4,2,7,1,3,6,9]\n",
    "\n",
    "输出：[4,7,2,9,6,3,1]\n",
    "\n",
    "示例 2：\n",
    "\n",
    "\n",
    "\n",
    "输入：root = [2,1,3]\n",
    "\n",
    "输出：[2,3,1]\n",
    "\n",
    "示例 3：\n",
    "\n",
    "输入：root = []\n",
    "\n",
    "输出：[]"
   ]
  }
 ],
 "metadata": {
  "kernelspec": {
   "display_name": "base",
   "language": "python",
   "name": "python3"
  },
  "language_info": {
   "codemirror_mode": {
    "name": "ipython",
    "version": 3
   },
   "file_extension": ".py",
   "mimetype": "text/x-python",
   "name": "python",
   "nbconvert_exporter": "python",
   "pygments_lexer": "ipython3",
   "version": "3.9.12"
  }
 },
 "nbformat": 4,
 "nbformat_minor": 2
}
