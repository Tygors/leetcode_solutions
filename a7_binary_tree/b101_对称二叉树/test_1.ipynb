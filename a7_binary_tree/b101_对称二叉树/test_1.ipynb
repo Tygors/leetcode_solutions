{
 "cells": [
  {
   "cell_type": "markdown",
   "metadata": {},
   "source": [
    "https://leetcode.cn/problems/symmetric-tree"
   ]
  },
  {
   "cell_type": "markdown",
   "metadata": {},
   "source": [
    "给你一个二叉树的根节点 root ， 检查它是否轴对称。\n",
    "\n",
    " \n",
    "\n",
    "示例 1：\n",
    "\n",
    "\n",
    "输入：root = [1,2,2,3,4,4,3]\n",
    "\n",
    "输出：true\n",
    "\n",
    "示例 2：\n",
    "\n",
    "\n",
    "输入：root = [1,2,2,null,3,null,3]\n",
    "\n",
    "输出：false"
   ]
  }
 ],
 "metadata": {
  "kernelspec": {
   "display_name": "base",
   "language": "python",
   "name": "python3"
  },
  "language_info": {
   "codemirror_mode": {
    "name": "ipython",
    "version": 3
   },
   "file_extension": ".py",
   "mimetype": "text/x-python",
   "name": "python",
   "nbconvert_exporter": "python",
   "pygments_lexer": "ipython3",
   "version": "3.9.12"
  }
 },
 "nbformat": 4,
 "nbformat_minor": 2
}
