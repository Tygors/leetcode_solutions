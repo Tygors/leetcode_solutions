{
 "cells": [
  {
   "cell_type": "markdown",
   "metadata": {},
   "source": [
    "https://leetcode.cn/problems/assign-cookies"
   ]
  },
  {
   "cell_type": "markdown",
   "metadata": {},
   "source": [
    "假设你是一位很棒的家长，想要给你的孩子们一些小饼干。但是，每个孩子最多只能给一块饼干。\n",
    "\n",
    "对每个孩子 i，都有一个胃口值 g[i]，这是能让孩子们满足胃口的饼干的最小尺寸；并且每块饼干 j，都有一个尺寸 s[j] 。如果 s[j] >= g[i]，我们可以将这个饼干 j 分配给孩子 i ，这个孩子会得到满足。你的目标是满足尽可能多的孩子，并输出这个最大数值。\n",
    "\n",
    " \n",
    "示例 1:\n",
    "\n",
    "输入: g = [1,2,3], s = [1,1]\n",
    "\n",
    "输出: 1\n",
    "\n",
    "解释: \n",
    "\n",
    "你有三个孩子和两块小饼干，3 个孩子的胃口值分别是：1,2,3。\n",
    "\n",
    "虽然你有两块小饼干，由于他们的尺寸都是 1，你只能让胃口值是 1 的孩子满足。\n",
    "\n",
    "所以你应该输出 1。\n",
    "\n",
    "示例 2:\n",
    "\n",
    "输入: g = [1,2], s = [1,2,3]\n",
    "\n",
    "输出: 2\n",
    "\n",
    "解释: \n",
    "\n",
    "你有两个孩子和三块小饼干，2 个孩子的胃口值分别是 1,2。\n",
    "\n",
    "你拥有的饼干数量和尺寸都足以让所有孩子满足。\n",
    "\n",
    "所以你应该输出 2。"
   ]
  },
  {
   "cell_type": "code",
   "execution_count": 1,
   "metadata": {},
   "outputs": [],
   "source": [
    "from Solution import Solution"
   ]
  },
  {
   "cell_type": "code",
   "execution_count": 2,
   "metadata": {},
   "outputs": [
    {
     "name": "stdout",
     "output_type": "stream",
     "text": [
      "1\n"
     ]
    }
   ],
   "source": [
    "print(Solution().findContentChildren(g = [1,2,3], s = [1,1]))"
   ]
  },
  {
   "cell_type": "code",
   "execution_count": null,
   "metadata": {},
   "outputs": [
    {
     "name": "stdout",
     "output_type": "stream",
     "text": [
      "2\n"
     ]
    }
   ],
   "source": [
    "print(Solution().findContentChildren(g = [1,2], s = [1,2,3]))"
   ]
  },
  {
   "cell_type": "code",
   "execution_count": null,
   "metadata": {},
   "outputs": [],
   "source": []
  }
 ],
 "metadata": {
  "kernelspec": {
   "display_name": "base",
   "language": "python",
   "name": "python3"
  },
  "language_info": {
   "codemirror_mode": {
    "name": "ipython",
    "version": 3
   },
   "file_extension": ".py",
   "mimetype": "text/x-python",
   "name": "python",
   "nbconvert_exporter": "python",
   "pygments_lexer": "ipython3",
   "version": "3.9.12"
  }
 },
 "nbformat": 4,
 "nbformat_minor": 2
}
